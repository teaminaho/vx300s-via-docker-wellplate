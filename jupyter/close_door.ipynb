{
 "cells": [
  {
   "cell_type": "code",
   "execution_count": 1,
   "id": "228225c3-10c6-4288-91cc-dba7cfe9cc5b",
   "metadata": {},
   "outputs": [
    {
     "name": "stdout",
     "output_type": "stream",
     "text": [
      "/unnamed/rospy.client [INFO] init_node, name[/vx300s_robot_manipulation], pid[295]\n",
      "/vx300s_robot_manipulation/xmlrpc [INFO] XML-RPC server binding to 0.0.0.0:0\n",
      "/vx300s_robot_manipulation/xmlrpc [INFO] Started XML-RPC server [http://karakopad:37217/]\n",
      "/vx300s_robot_manipulation/rospy.init [INFO] ROS Slave URI: [http://karakopad:37217/]\n",
      "/vx300s_robot_manipulation/rospy.impl.masterslave [INFO] _ready: http://karakopad:37217/\n",
      "/vx300s_robot_manipulation/rospy.registration [INFO] Registering with master node http://localhost:11311\n",
      "/vx300s_robot_manipulation/xmlrpc [INFO] xml rpc node: starting XML-RPC server\n",
      "/vx300s_robot_manipulation/rospy.registration [INFO] registering subscriber topic [/vx300s/joint_states] type [sensor_msgs/JointState] with master\n",
      "/vx300s_robot_manipulation/rospy.init [INFO] registered with master\n",
      "/vx300s_robot_manipulation/rospy.rosout [INFO] initializing /rosout core topic\n",
      "/vx300s_robot_manipulation/rospy.rosout [INFO] connected to core topic /rosout\n",
      "/vx300s_robot_manipulation/rospy.simtime [INFO] /use_sim_time is not set, will not subscribe to simulated time [/clock] topic\n",
      "Robot Name: vx300s\n",
      "Robot Model: vx300s\n",
      "Initialized InterbotixRobotXSCore!\n",
      "\n",
      "Arm Group Name: arm\n",
      "Moving Time: 2.00 seconds\n",
      "Acceleration Time: 0.30 seconds\n",
      "Drive Mode: Time-Based-Profile\n",
      "Initialized InterbotixArmXSInterface!\n",
      "\n",
      "Gripper Name: gripper\n",
      "Gripper Pressure: 50%\n",
      "Initialized InterbotixGripperXSInterface!\n",
      "\n"
     ]
    }
   ],
   "source": [
    "from base import *\n",
    "config, bot = init()"
   ]
  },
  {
   "cell_type": "code",
   "execution_count": 2,
   "id": "c3489892-8898-4862-8ab3-6e077a0dfe27",
   "metadata": {},
   "outputs": [],
   "source": [
    "bot.dxl.robot_torque_enable(cmd_type='group', name='all', enable=True)\n",
    "home()\n",
    "bot.gripper.open()"
   ]
  },
  {
   "cell_type": "markdown",
   "id": "c400befa",
   "metadata": {},
   "source": [
    "## 扉を開いていく動き"
   ]
  },
  {
   "cell_type": "code",
   "execution_count": 3,
   "id": "d62725f9-a6bf-4856-8aeb-dbcaa9e4fe9e",
   "metadata": {},
   "outputs": [
    {
     "data": {
      "text/plain": [
       "True"
      ]
     },
     "execution_count": 3,
     "metadata": {},
     "output_type": "execute_result"
    }
   ],
   "source": [
    "bot.arm.set_joint_positions(np.radians([80.0, -73.0, 88.0, 0.0, -14.0, 0.0]))"
   ]
  },
  {
   "cell_type": "code",
   "execution_count": 4,
   "id": "e9119d1f-c8cc-4a2c-95fd-f691238e0c53",
   "metadata": {},
   "outputs": [
    {
     "data": {
      "text/plain": [
       "True"
      ]
     },
     "execution_count": 4,
     "metadata": {},
     "output_type": "execute_result"
    }
   ],
   "source": [
    "bot.arm.set_joint_positions(np.radians([80.0, 0.0, 60.0, 0.0, -65.0, 0.0]))"
   ]
  },
  {
   "cell_type": "code",
   "execution_count": 5,
   "id": "9c5e0fe7-05bf-4695-aad5-e158b7006f33",
   "metadata": {},
   "outputs": [
    {
     "data": {
      "text/plain": [
       "True"
      ]
     },
     "execution_count": 5,
     "metadata": {},
     "output_type": "execute_result"
    }
   ],
   "source": [
    "bot.arm.set_joint_positions(np.radians([70.0, 0.0, 60.0, 0.0, -65.0, 0.0]))"
   ]
  },
  {
   "cell_type": "code",
   "execution_count": 6,
   "id": "0cbf2a27-55da-47da-9737-2e28ba33cce1",
   "metadata": {},
   "outputs": [
    {
     "data": {
      "text/plain": [
       "True"
      ]
     },
     "execution_count": 6,
     "metadata": {},
     "output_type": "execute_result"
    }
   ],
   "source": [
    "bot.arm.set_joint_positions(np.radians([60.0, -20.0, 80.0, 0.0, -65.0, 0.0]))"
   ]
  },
  {
   "cell_type": "code",
   "execution_count": 7,
   "id": "8fc5f80d-f7e6-4a75-b5a4-e4c416d30077",
   "metadata": {},
   "outputs": [
    {
     "data": {
      "text/plain": [
       "True"
      ]
     },
     "execution_count": 7,
     "metadata": {},
     "output_type": "execute_result"
    }
   ],
   "source": [
    "bot.arm.set_joint_positions(np.radians([10.0, -20.0, 80.0, 0.0, -65.0, 0.0]))"
   ]
  },
  {
   "cell_type": "code",
   "execution_count": 8,
   "id": "93cc9f9f-b3ba-432a-be81-0e51a3ab0e4a",
   "metadata": {},
   "outputs": [
    {
     "data": {
      "text/plain": [
       "True"
      ]
     },
     "execution_count": 8,
     "metadata": {},
     "output_type": "execute_result"
    }
   ],
   "source": [
    "bot.arm.set_joint_positions(np.radians([-10.0, 0.0, 60.0, 0.0, -65.0, 0.0]))"
   ]
  },
  {
   "cell_type": "code",
   "execution_count": 9,
   "id": "81bb4d92-2693-4742-98c7-8df85d8f1ad2",
   "metadata": {},
   "outputs": [
    {
     "data": {
      "text/plain": [
       "True"
      ]
     },
     "execution_count": 9,
     "metadata": {},
     "output_type": "execute_result"
    }
   ],
   "source": [
    "bot.arm.set_joint_positions(np.radians([-10.0, 18.0, 32.0, 0.0, -55.0, 0.0]))"
   ]
  },
  {
   "cell_type": "code",
   "execution_count": 10,
   "id": "fb9826db-5f8a-46b3-ae85-33f6799d07cf",
   "metadata": {},
   "outputs": [
    {
     "data": {
      "text/plain": [
       "True"
      ]
     },
     "execution_count": 10,
     "metadata": {},
     "output_type": "execute_result"
    }
   ],
   "source": [
    "bot.arm.set_joint_positions(np.radians([-10.0, 0.0, 60.0, 0.0, -65.0, 0.0]))"
   ]
  },
  {
   "cell_type": "code",
   "execution_count": 11,
   "id": "725a37d6-039b-41c4-a573-378b58747584",
   "metadata": {},
   "outputs": [
    {
     "name": "stdout",
     "output_type": "stream",
     "text": [
      "shutdown request: [/vx300s_robot_manipulation] Reason: new node registered with same name\n",
      "/vx300s_robot_manipulation/rospy.impl.masterslave [INFO] external shutdown request from [/master]: [/vx300s_robot_manipulation] Reason: new node registered with same name\n",
      "/vx300s_robot_manipulation/rospy.core [INFO] signal_shutdown [external shutdown request from [/master]: [[/vx300s_robot_manipulation] Reason: new node registered with same name]]\n"
     ]
    }
   ],
   "source": [
    "home()"
   ]
  },
  {
   "cell_type": "markdown",
   "id": "5e23809a",
   "metadata": {},
   "source": [
    "## 終わり"
   ]
  },
  {
   "cell_type": "code",
   "execution_count": 20,
   "id": "1d649036-4203-415c-845e-ea681877d36d",
   "metadata": {},
   "outputs": [],
   "source": [
    "home()\n",
    "bot.arm.go_to_sleep_pose()\n",
    "rospy.sleep(1)\n",
    "bot.dxl.robot_torque_enable(cmd_type='group', name='all', enable=False)"
   ]
  },
  {
   "cell_type": "markdown",
   "id": "208fd26a-1a1d-43ca-8e3d-ba20f34e8eea",
   "metadata": {},
   "source": [
    "## 情報確認用"
   ]
  },
  {
   "cell_type": "code",
   "execution_count": 35,
   "id": "85369c22-ba89-4c66-9878-52737c4cdf54",
   "metadata": {},
   "outputs": [
    {
     "name": "stdout",
     "output_type": "stream",
     "text": [
      "lower [-180. -106. -101. -180. -107. -180.]\n",
      "upper [180.  72.  92. 180. 128. 180.]\n"
     ]
    }
   ],
   "source": [
    "# リミット角度\n",
    "np.set_printoptions(precision=2)\n",
    "print('lower', np.degrees(bot.arm.group_info.joint_lower_limits))\n",
    "print('upper', np.degrees(bot.arm.group_info.joint_upper_limits))"
   ]
  },
  {
   "cell_type": "code",
   "execution_count": 3,
   "id": "7ba13f6d-c59f-46c7-ba8b-c065eb254e85",
   "metadata": {},
   "outputs": [
    {
     "data": {
      "text/plain": [
       "{'waist': '-0.1 [deg]',\n",
       " 'shoulder': '-73.0 [deg]',\n",
       " 'elbow': '88.1 [deg]',\n",
       " 'forearm_roll': '-0.2 [deg]',\n",
       " 'wrist_angle': '-14.2 [deg]',\n",
       " 'wrist_rotate': '-0.1 [deg]'}"
      ]
     },
     "execution_count": 3,
     "metadata": {},
     "output_type": "execute_result"
    }
   ],
   "source": [
    "# 現在の各軸角度\n",
    "{\n",
    "    name:\n",
    "    f\"{np.degrees(bot.dxl.robot_get_single_joint_state(name)['position']):.1f} [deg]\"\n",
    "    for name in bot.arm.group_info.joint_names\n",
    "}"
   ]
  }
 ],
 "metadata": {
  "kernelspec": {
   "display_name": "Python 3 (ipykernel)",
   "language": "python",
   "name": "python3"
  },
  "language_info": {
   "codemirror_mode": {
    "name": "ipython",
    "version": 3
   },
   "file_extension": ".py",
   "mimetype": "text/x-python",
   "name": "python",
   "nbconvert_exporter": "python",
   "pygments_lexer": "ipython3",
   "version": "3.8.10"
  }
 },
 "nbformat": 4,
 "nbformat_minor": 5
}
