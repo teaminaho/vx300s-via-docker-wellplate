{
 "cells": [
  {
   "cell_type": "code",
   "execution_count": 1,
   "id": "228225c3-10c6-4288-91cc-dba7cfe9cc5b",
   "metadata": {},
   "outputs": [
    {
     "name": "stdout",
     "output_type": "stream",
     "text": [
      "/unnamed/rospy.client [INFO] init_node, name[/vx300s_robot_manipulation], pid[330]\n",
      "/vx300s_robot_manipulation/xmlrpc [INFO] XML-RPC server binding to 0.0.0.0:0\n",
      "/vx300s_robot_manipulation/xmlrpc [INFO] Started XML-RPC server [http://karakopad:37373/]\n",
      "/vx300s_robot_manipulation/rospy.init [INFO] ROS Slave URI: [http://karakopad:37373/]\n",
      "/vx300s_robot_manipulation/rospy.impl.masterslave [INFO] _ready: http://karakopad:37373/\n",
      "/vx300s_robot_manipulation/rospy.registration [INFO] Registering with master node http://localhost:11311\n",
      "/vx300s_robot_manipulation/xmlrpc [INFO] xml rpc node: starting XML-RPC server\n",
      "/vx300s_robot_manipulation/rospy.registration [INFO] registering subscriber topic [/vx300s/joint_states] type [sensor_msgs/JointState] with master\n",
      "/vx300s_robot_manipulation/rospy.init [INFO] registered with master\n",
      "/vx300s_robot_manipulation/rospy.rosout [INFO] initializing /rosout core topic\n",
      "/vx300s_robot_manipulation/rospy.rosout [INFO] connected to core topic /rosout\n",
      "/vx300s_robot_manipulation/rospy.simtime [INFO] /use_sim_time is not set, will not subscribe to simulated time [/clock] topic\n",
      "Robot Name: vx300s\n",
      "Robot Model: vx300s\n",
      "Initialized InterbotixRobotXSCore!\n",
      "\n",
      "Arm Group Name: arm\n",
      "Moving Time: 2.00 seconds\n",
      "Acceleration Time: 0.30 seconds\n",
      "Drive Mode: Time-Based-Profile\n",
      "Initialized InterbotixArmXSInterface!\n",
      "\n",
      "Gripper Name: gripper\n",
      "Gripper Pressure: 50%\n",
      "Initialized InterbotixGripperXSInterface!\n",
      "\n"
     ]
    }
   ],
   "source": [
    "from base import *\n",
    "config, bot = init()"
   ]
  },
  {
   "cell_type": "code",
   "execution_count": 2,
   "id": "c3489892-8898-4862-8ab3-6e077a0dfe27",
   "metadata": {},
   "outputs": [],
   "source": [
    "bot.dxl.robot_torque_enable(cmd_type='group', name='all', enable=True)\n",
    "home()\n",
    "bot.gripper.open()"
   ]
  },
  {
   "cell_type": "markdown",
   "id": "339c493a",
   "metadata": {},
   "source": [
    "## レバーを引く動き"
   ]
  },
  {
   "cell_type": "code",
   "execution_count": 3,
   "id": "4f629265-7d87-4e77-8bf1-3dfb45929fd0",
   "metadata": {},
   "outputs": [
    {
     "data": {
      "text/plain": [
       "True"
      ]
     },
     "execution_count": 3,
     "metadata": {},
     "output_type": "execute_result"
    }
   ],
   "source": [
    "# レバーにアプローチ\n",
    "bot.arm.set_joint_positions(np.radians([-1.0, 4.0, -22.5, -19.0, 4.5, 17.0]))"
   ]
  },
  {
   "cell_type": "code",
   "execution_count": 4,
   "id": "dafd53c4-c718-49a5-93bf-dd5a302ae628",
   "metadata": {},
   "outputs": [],
   "source": [
    "# レバーを掴む\n",
    "bot.gripper.set_pressure(0.9)\n",
    "bot.gripper.close()"
   ]
  },
  {
   "cell_type": "code",
   "execution_count": 5,
   "id": "1523a09b-e7d2-47b2-9dde-44f9e1450e4b",
   "metadata": {},
   "outputs": [
    {
     "data": {
      "text/plain": [
       "True"
      ]
     },
     "execution_count": 5,
     "metadata": {},
     "output_type": "execute_result"
    }
   ],
   "source": [
    "# レバーを引く\n",
    "bot.arm.set_joint_positions(np.radians([-1.0, -40.0, 25.0, -19.0, 4.5, 17.0]))"
   ]
  },
  {
   "cell_type": "code",
   "execution_count": 6,
   "id": "2a2308b9-fea5-435f-b8f9-bde9548d81aa",
   "metadata": {},
   "outputs": [],
   "source": [
    "# レバー戻す\n",
    "bot.arm.set_joint_positions(np.radians([-1.0, 4.0, -22.5, -19.0, 4.5, 17.0]))\n",
    "bot.gripper.open()"
   ]
  },
  {
   "cell_type": "code",
   "execution_count": 7,
   "id": "9f91fe91-cb36-4816-8e73-2a74249e827c",
   "metadata": {},
   "outputs": [
    {
     "data": {
      "text/plain": [
       "True"
      ]
     },
     "execution_count": 7,
     "metadata": {},
     "output_type": "execute_result"
    }
   ],
   "source": [
    "# レバーから離れる\n",
    "bot.arm.set_joint_positions(np.radians([-0.0, -8.0, -9.0, -19.0, 4.5, 17.0]))"
   ]
  },
  {
   "cell_type": "code",
   "execution_count": 8,
   "id": "971822d0-f54b-4a44-8f6f-0dad2b04eace",
   "metadata": {},
   "outputs": [
    {
     "data": {
      "text/plain": [
       "True"
      ]
     },
     "execution_count": 8,
     "metadata": {},
     "output_type": "execute_result"
    }
   ],
   "source": [
    "# 右にスライド\n",
    "bot.arm.set_joint_positions(np.radians([-12.0, -8.0, -9.0, -19.0, 4.5, 17.0]))"
   ]
  },
  {
   "cell_type": "code",
   "execution_count": 9,
   "id": "ce431fe4-405a-4ba4-9e02-7559ef9d8758",
   "metadata": {},
   "outputs": [
    {
     "data": {
      "text/plain": [
       "True"
      ]
     },
     "execution_count": 9,
     "metadata": {},
     "output_type": "execute_result"
    }
   ],
   "source": [
    "# ドア裏まで下がる\n",
    "bot.arm.set_joint_positions(np.radians([-12.0, 15.0, 20.0, -19.0, -30.0, 17.0]))"
   ]
  },
  {
   "cell_type": "markdown",
   "id": "c400befa",
   "metadata": {},
   "source": [
    "## 扉を開いていく動き"
   ]
  },
  {
   "cell_type": "code",
   "execution_count": 10,
   "id": "d62725f9-a6bf-4856-8aeb-dbcaa9e4fe9e",
   "metadata": {},
   "outputs": [
    {
     "data": {
      "text/plain": [
       "True"
      ]
     },
     "execution_count": 10,
     "metadata": {},
     "output_type": "execute_result"
    }
   ],
   "source": [
    "bot.arm.set_joint_positions(np.radians([-10.0, 0.0, 45.0, -19.0, -35.0, 17.0]))"
   ]
  },
  {
   "cell_type": "code",
   "execution_count": 11,
   "id": "2a60c799-1e9d-440b-8ee2-7647b1931ef6",
   "metadata": {},
   "outputs": [
    {
     "data": {
      "text/plain": [
       "True"
      ]
     },
     "execution_count": 11,
     "metadata": {},
     "output_type": "execute_result"
    }
   ],
   "source": [
    "bot.arm.set_joint_positions(np.radians([-5.0, -20.0, 65.0, -19.0, -35.0, 17.0]))"
   ]
  },
  {
   "cell_type": "code",
   "execution_count": 12,
   "id": "e6c57907-7eb9-456d-adab-5c113cf17b2e",
   "metadata": {},
   "outputs": [
    {
     "data": {
      "text/plain": [
       "True"
      ]
     },
     "execution_count": 12,
     "metadata": {},
     "output_type": "execute_result"
    }
   ],
   "source": [
    "bot.arm.set_joint_positions(np.radians([10.0, -25.0, 75.0, -19.0, -45.0, 17.0]))"
   ]
  },
  {
   "cell_type": "code",
   "execution_count": 13,
   "id": "b5792896-c18d-49ce-bed9-e9577d833925",
   "metadata": {},
   "outputs": [
    {
     "data": {
      "text/plain": [
       "True"
      ]
     },
     "execution_count": 13,
     "metadata": {},
     "output_type": "execute_result"
    }
   ],
   "source": [
    "bot.arm.set_joint_positions(np.radians([40.0, -15.0, 70.0, -19.0, -50.0, 17.0]))"
   ]
  },
  {
   "cell_type": "code",
   "execution_count": 14,
   "id": "5e5b4507-dbe1-4b4e-8a68-8191b58ad165",
   "metadata": {},
   "outputs": [
    {
     "name": "stdout",
     "output_type": "stream",
     "text": [
      "shutdown request: [/vx300s_robot_manipulation] Reason: new node registered with same name\n",
      "/vx300s_robot_manipulation/rospy.impl.masterslave [INFO] external shutdown request from [/master]: [/vx300s_robot_manipulation] Reason: new node registered with same name\n",
      "/vx300s_robot_manipulation/rospy.core [INFO] signal_shutdown [external shutdown request from [/master]: [[/vx300s_robot_manipulation] Reason: new node registered with same name]]\n"
     ]
    }
   ],
   "source": [
    "home()"
   ]
  },
  {
   "cell_type": "markdown",
   "id": "5e23809a",
   "metadata": {},
   "source": [
    "## 終わり"
   ]
  },
  {
   "cell_type": "code",
   "execution_count": 43,
   "id": "1d649036-4203-415c-845e-ea681877d36d",
   "metadata": {},
   "outputs": [],
   "source": [
    "home()\n",
    "bot.arm.go_to_sleep_pose()\n",
    "rospy.sleep(1)\n",
    "bot.dxl.robot_torque_enable(cmd_type='group', name='all', enable=False)"
   ]
  },
  {
   "cell_type": "markdown",
   "id": "208fd26a-1a1d-43ca-8e3d-ba20f34e8eea",
   "metadata": {},
   "source": [
    "## 情報確認用"
   ]
  },
  {
   "cell_type": "code",
   "execution_count": 35,
   "id": "85369c22-ba89-4c66-9878-52737c4cdf54",
   "metadata": {},
   "outputs": [
    {
     "name": "stdout",
     "output_type": "stream",
     "text": [
      "lower [-180. -106. -101. -180. -107. -180.]\n",
      "upper [180.  72.  92. 180. 128. 180.]\n"
     ]
    }
   ],
   "source": [
    "# リミット角度\n",
    "np.set_printoptions(precision=2)\n",
    "print('lower', np.degrees(bot.arm.group_info.joint_lower_limits))\n",
    "print('upper', np.degrees(bot.arm.group_info.joint_upper_limits))"
   ]
  },
  {
   "cell_type": "code",
   "execution_count": 17,
   "id": "7ba13f6d-c59f-46c7-ba8b-c065eb254e85",
   "metadata": {},
   "outputs": [
    {
     "data": {
      "text/plain": [
       "{'waist': '39.8 [deg]',\n",
       " 'shoulder': '-14.7 [deg]',\n",
       " 'elbow': '70.8 [deg]',\n",
       " 'forearm_roll': '-19.1 [deg]',\n",
       " 'wrist_angle': '-49.4 [deg]',\n",
       " 'wrist_rotate': '16.9 [deg]'}"
      ]
     },
     "execution_count": 17,
     "metadata": {},
     "output_type": "execute_result"
    }
   ],
   "source": [
    "# 現在の各軸角度\n",
    "{\n",
    "    name:\n",
    "    f\"{np.degrees(bot.dxl.robot_get_single_joint_state(name)['position']):.1f} [deg]\"\n",
    "    for name in bot.arm.group_info.joint_names\n",
    "}"
   ]
  }
 ],
 "metadata": {
  "kernelspec": {
   "display_name": "Python 3 (ipykernel)",
   "language": "python",
   "name": "python3"
  },
  "language_info": {
   "codemirror_mode": {
    "name": "ipython",
    "version": 3
   },
   "file_extension": ".py",
   "mimetype": "text/x-python",
   "name": "python",
   "nbconvert_exporter": "python",
   "pygments_lexer": "ipython3",
   "version": "3.8.10"
  }
 },
 "nbformat": 4,
 "nbformat_minor": 5
}
