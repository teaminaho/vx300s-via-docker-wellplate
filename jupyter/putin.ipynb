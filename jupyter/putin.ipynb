{
 "cells": [
  {
   "cell_type": "markdown",
   "id": "4a5a61fc",
   "metadata": {},
   "source": [
    "# インキュベータにウェルプレートを入れる動き"
   ]
  },
  {
   "cell_type": "code",
   "execution_count": 1,
   "id": "bd54879d-4915-426c-9a96-8e097f432d42",
   "metadata": {},
   "outputs": [
    {
     "name": "stdout",
     "output_type": "stream",
     "text": [
      "/unnamed/rospy.client [INFO] init_node, name[/vx300s_robot_manipulation], pid[142]\n",
      "/vx300s_robot_manipulation/xmlrpc [INFO] XML-RPC server binding to 0.0.0.0:0\n",
      "/vx300s_robot_manipulation/xmlrpc [INFO] Started XML-RPC server [http://karakopad:33943/]\n",
      "/vx300s_robot_manipulation/rospy.init [INFO] ROS Slave URI: [http://karakopad:33943/]\n",
      "/vx300s_robot_manipulation/rospy.impl.masterslave [INFO] _ready: http://karakopad:33943/\n",
      "/vx300s_robot_manipulation/rospy.registration [INFO] Registering with master node http://localhost:11311\n",
      "/vx300s_robot_manipulation/xmlrpc [INFO] xml rpc node: starting XML-RPC server\n",
      "/vx300s_robot_manipulation/rospy.registration [INFO] registering subscriber topic [/vx300s/joint_states] type [sensor_msgs/JointState] with master\n",
      "/vx300s_robot_manipulation/rospy.init [INFO] registered with master\n",
      "/vx300s_robot_manipulation/rospy.rosout [INFO] initializing /rosout core topic\n",
      "/vx300s_robot_manipulation/rospy.rosout [INFO] connected to core topic /rosout\n",
      "/vx300s_robot_manipulation/rospy.simtime [INFO] /use_sim_time is not set, will not subscribe to simulated time [/clock] topic\n",
      "Robot Name: vx300s\n",
      "Robot Model: vx300s\n",
      "Initialized InterbotixRobotXSCore!\n",
      "\n",
      "Arm Group Name: arm\n",
      "Moving Time: 2.00 seconds\n",
      "Acceleration Time: 0.30 seconds\n",
      "Drive Mode: Time-Based-Profile\n",
      "Initialized InterbotixArmXSInterface!\n",
      "\n",
      "Gripper Name: gripper\n",
      "Gripper Pressure: 50%\n",
      "Initialized InterbotixGripperXSInterface!\n",
      "\n"
     ]
    }
   ],
   "source": [
    "from base import *\n",
    "config, bot = init()"
   ]
  },
  {
   "cell_type": "code",
   "execution_count": 19,
   "id": "31e9b1cf-8a3e-442c-b1c3-1e5be10d1829",
   "metadata": {},
   "outputs": [],
   "source": [
    "bot.dxl.robot_torque_enable(cmd_type='group', name='all', enable=True)\n",
    "home()\n",
    "bot.gripper.open()"
   ]
  },
  {
   "cell_type": "code",
   "execution_count": 20,
   "id": "3441b126-1abc-4703-8d38-71b4df69d1e7",
   "metadata": {},
   "outputs": [
    {
     "data": {
      "text/plain": [
       "True"
      ]
     },
     "execution_count": 20,
     "metadata": {},
     "output_type": "execute_result"
    }
   ],
   "source": [
    "# 顕微鏡の手前へ移動\n",
    "bot.arm.set_joint_positions(np.radians([-89.0, -70.0, 85.0, 0.0, -20.0, 0.0]))"
   ]
  },
  {
   "cell_type": "code",
   "execution_count": 21,
   "id": "594840d6-01a0-4e20-8de3-de12dd96c5dc",
   "metadata": {},
   "outputs": [
    {
     "data": {
      "text/plain": [
       "True"
      ]
     },
     "execution_count": 21,
     "metadata": {},
     "output_type": "execute_result"
    }
   ],
   "source": [
    "# 顕微鏡プレートAの上へ移動\n",
    "bot.arm.set_joint_positions(np.radians([-89.0, -8.0, 67.0, 0.0, -65.0, 0.0]))"
   ]
  },
  {
   "cell_type": "code",
   "execution_count": 22,
   "id": "0a7b9de3-1981-4aec-b53c-b11f5176ba51",
   "metadata": {},
   "outputs": [],
   "source": [
    "# 掴む\n",
    "bot.gripper.set_pressure(0.9)\n",
    "bot.gripper.close()"
   ]
  },
  {
   "cell_type": "code",
   "execution_count": 23,
   "id": "cf283afe-bf53-48d9-bfe6-f30c6acf17c7",
   "metadata": {},
   "outputs": [
    {
     "data": {
      "text/plain": [
       "True"
      ]
     },
     "execution_count": 23,
     "metadata": {},
     "output_type": "execute_result"
    }
   ],
   "source": [
    "# 顕微鏡の手前へ移動\n",
    "bot.arm.set_joint_positions(np.radians([-89.0, -70.0, 85.0, 0.0, -20.0, 0.0]))"
   ]
  },
  {
   "cell_type": "code",
   "execution_count": 24,
   "id": "82a09301-ffcb-422d-af21-4637e960e48b",
   "metadata": {},
   "outputs": [
    {
     "data": {
      "text/plain": [
       "True"
      ]
     },
     "execution_count": 24,
     "metadata": {},
     "output_type": "execute_result"
    }
   ],
   "source": [
    "# 扉の外へ出る\n",
    "bot.arm.set_joint_positions(np.radians([30.0, -30.0, 52.0, 40.0, -34.0, -36.0]))"
   ]
  },
  {
   "cell_type": "code",
   "execution_count": 25,
   "id": "74a5b682-9fc0-45ab-b3a9-e01cf8bf22f3",
   "metadata": {},
   "outputs": [
    {
     "data": {
      "text/plain": [
       "True"
      ]
     },
     "execution_count": 25,
     "metadata": {},
     "output_type": "execute_result"
    }
   ],
   "source": [
    "# 扉の前へ戻る\n",
    "bot.arm.set_joint_positions(np.radians([23.0, 9.0, 10.0, 40.0, -32.0, -36.0]))"
   ]
  },
  {
   "cell_type": "code",
   "execution_count": 26,
   "id": "12636d4f-e2b0-4112-b72c-e7f173b629fc",
   "metadata": {},
   "outputs": [
    {
     "data": {
      "text/plain": [
       "True"
      ]
     },
     "execution_count": 26,
     "metadata": {},
     "output_type": "execute_result"
    }
   ],
   "source": [
    "# 掴む位置へ移動\n",
    "bot.arm.set_joint_positions(np.radians([22.0, 15.0, 5.0, 40.0, -34.5, -36.0]))"
   ]
  },
  {
   "cell_type": "code",
   "execution_count": 27,
   "id": "9d63c3c4-2d20-46c1-ad91-f203f192ffa3",
   "metadata": {},
   "outputs": [],
   "source": [
    "# 放す\n",
    "bot.gripper.set_pressure(0.9)\n",
    "bot.gripper.open()"
   ]
  },
  {
   "cell_type": "code",
   "execution_count": 28,
   "id": "f23737b5-b956-4dd9-b3b1-6109e9a4d391",
   "metadata": {},
   "outputs": [
    {
     "data": {
      "text/plain": [
       "True"
      ]
     },
     "execution_count": 28,
     "metadata": {},
     "output_type": "execute_result"
    }
   ],
   "source": [
    "# 扉の前へ戻る\n",
    "bot.arm.set_joint_positions(np.radians([23.0, 9.0, 10.0, 40.0, -32.0, -36.0]))"
   ]
  },
  {
   "cell_type": "code",
   "execution_count": 29,
   "id": "bc799e53-3784-4721-991b-7901a084f5da",
   "metadata": {},
   "outputs": [
    {
     "data": {
      "text/plain": [
       "True"
      ]
     },
     "execution_count": 29,
     "metadata": {},
     "output_type": "execute_result"
    }
   ],
   "source": [
    "# 扉の外へ出る\n",
    "bot.arm.set_joint_positions(np.radians([30.0, -25.0, 47.0, 40.0, -34.0, -36.0]))"
   ]
  },
  {
   "cell_type": "code",
   "execution_count": 30,
   "id": "ddc2a0f8-c626-4f6e-b7bb-9fa899f806c3",
   "metadata": {},
   "outputs": [],
   "source": [
    "home()"
   ]
  },
  {
   "cell_type": "markdown",
   "id": "a8e85d1c-8770-4f1b-a4c5-3badfd5405a7",
   "metadata": {},
   "source": [
    "## 終わり"
   ]
  },
  {
   "cell_type": "code",
   "execution_count": 31,
   "id": "c48e58ef-f7df-4f4e-b968-393ef4839de3",
   "metadata": {},
   "outputs": [
    {
     "name": "stderr",
     "output_type": "stream",
     "text": [
      "/vx300s_robot_manipulation/rosout [WARN] Over effort!\n",
      "/vx300s_robot_manipulation/rosout [WARN] Current effort values: (-14375.3603515625, -74975.6796875, 30859.6796875, 0.0, 31376.16015625, -29740.640625, 32409.12109375, 0.0, 0.0)\n",
      "/vx300s_robot_manipulation/rosout [WARN] Maximum effort values: [1200.0, 1500.0, 1000.0, 1000.0, 1000.0, 1000.0, 1000.0, 1000.0, 1000.0]\n"
     ]
    },
    {
     "name": "stdout",
     "output_type": "stream",
     "text": [
      "/vx300s_robot_manipulation/rospy.core [INFO] signal_shutdown [Over effort]\n",
      "/vx300s_robot_manipulation/rospy.impl.masterslave [INFO] Over effort\n"
     ]
    }
   ],
   "source": [
    "home()\n",
    "bot.arm.go_to_sleep_pose()\n",
    "rospy.sleep(1)\n",
    "bot.dxl.robot_torque_enable(cmd_type='group', name='all', enable=False)"
   ]
  },
  {
   "cell_type": "markdown",
   "id": "4774ea5e-1152-4449-8df4-abd35320e9fe",
   "metadata": {},
   "source": [
    "## 情報確認用"
   ]
  },
  {
   "cell_type": "code",
   "execution_count": 33,
   "id": "0de0495e-f687-46f8-aabf-c12fe7a11b61",
   "metadata": {},
   "outputs": [],
   "source": [
    "# トルクOFF\n",
    "bot.dxl.robot_torque_enable(cmd_type='group', name='all', enable=False)"
   ]
  },
  {
   "cell_type": "code",
   "execution_count": 34,
   "id": "77459842-a7f6-4ea2-8b27-8d294d1b34ca",
   "metadata": {},
   "outputs": [],
   "source": [
    "# トルクON\n",
    "bot.dxl.robot_torque_enable(cmd_type='group', name='all', enable=True)"
   ]
  },
  {
   "cell_type": "code",
   "execution_count": 20,
   "id": "67a4c2da-4dbd-48a7-bafd-245150e02e8a",
   "metadata": {},
   "outputs": [
    {
     "data": {
      "text/plain": [
       "{'waist': '26.9 [deg]',\n",
       " 'shoulder': '4.7 [deg]',\n",
       " 'elbow': '21.3 [deg]',\n",
       " 'forearm_roll': '40.1 [deg]',\n",
       " 'wrist_angle': '-39.6 [deg]',\n",
       " 'wrist_rotate': '-33.9 [deg]'}"
      ]
     },
     "execution_count": 20,
     "metadata": {},
     "output_type": "execute_result"
    }
   ],
   "source": [
    "# 現在の各軸角度\n",
    "{\n",
    "    name:\n",
    "    f\"{np.degrees(bot.dxl.robot_get_single_joint_state(name)['position']):.1f} [deg]\"\n",
    "    for name in bot.arm.group_info.joint_names\n",
    "}"
   ]
  }
 ],
 "metadata": {
  "kernelspec": {
   "display_name": "Python 3 (ipykernel)",
   "language": "python",
   "name": "python3"
  },
  "language_info": {
   "codemirror_mode": {
    "name": "ipython",
    "version": 3
   },
   "file_extension": ".py",
   "mimetype": "text/x-python",
   "name": "python",
   "nbconvert_exporter": "python",
   "pygments_lexer": "ipython3",
   "version": "3.8.10"
  },
  "vscode": {
   "interpreter": {
    "hash": "916dbcbb3f70747c44a77c7bcd40155683ae19c65e1c03b4aa3499c5328201f1"
   }
  }
 },
 "nbformat": 4,
 "nbformat_minor": 5
}
