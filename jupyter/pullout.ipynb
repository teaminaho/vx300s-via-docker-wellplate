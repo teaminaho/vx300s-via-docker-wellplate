{
 "cells": [
  {
   "cell_type": "markdown",
   "id": "4a5a61fc",
   "metadata": {},
   "source": [
    "# インキュベータにウェルプレートを取りに行く動き"
   ]
  },
  {
   "cell_type": "code",
   "execution_count": 1,
   "id": "bd54879d-4915-426c-9a96-8e097f432d42",
   "metadata": {},
   "outputs": [
    {
     "name": "stdout",
     "output_type": "stream",
     "text": [
      "/unnamed/rospy.client [INFO] init_node, name[/vx300s_robot_manipulation], pid[139]\n",
      "/vx300s_robot_manipulation/xmlrpc [INFO] XML-RPC server binding to 0.0.0.0:0\n",
      "/vx300s_robot_manipulation/xmlrpc [INFO] Started XML-RPC server [http://karakopad:45887/]\n",
      "/vx300s_robot_manipulation/rospy.init [INFO] ROS Slave URI: [http://karakopad:45887/]\n",
      "/vx300s_robot_manipulation/rospy.impl.masterslave [INFO] _ready: http://karakopad:45887/\n",
      "/vx300s_robot_manipulation/rospy.registration [INFO] Registering with master node http://localhost:11311\n",
      "/vx300s_robot_manipulation/xmlrpc [INFO] xml rpc node: starting XML-RPC server\n",
      "/vx300s_robot_manipulation/rospy.registration [INFO] registering subscriber topic [/vx300s/joint_states] type [sensor_msgs/JointState] with master\n",
      "/vx300s_robot_manipulation/rospy.init [INFO] registered with master\n",
      "/vx300s_robot_manipulation/rospy.rosout [INFO] initializing /rosout core topic\n",
      "/vx300s_robot_manipulation/rospy.rosout [INFO] connected to core topic /rosout\n",
      "/vx300s_robot_manipulation/rospy.simtime [INFO] /use_sim_time is not set, will not subscribe to simulated time [/clock] topic\n",
      "Robot Name: vx300s\n",
      "Robot Model: vx300s\n",
      "Initialized InterbotixRobotXSCore!\n",
      "\n",
      "Arm Group Name: arm\n",
      "Moving Time: 2.00 seconds\n",
      "Acceleration Time: 0.30 seconds\n",
      "Drive Mode: Time-Based-Profile\n",
      "Initialized InterbotixArmXSInterface!\n",
      "\n",
      "Gripper Name: gripper\n",
      "Gripper Pressure: 50%\n",
      "Initialized InterbotixGripperXSInterface!\n",
      "\n"
     ]
    }
   ],
   "source": [
    "from base import *\n",
    "config, bot = init()"
   ]
  },
  {
   "cell_type": "code",
   "execution_count": 2,
   "id": "31e9b1cf-8a3e-442c-b1c3-1e5be10d1829",
   "metadata": {},
   "outputs": [],
   "source": [
    "bot.dxl.robot_torque_enable(cmd_type='group', name='all', enable=True)\n",
    "home()\n",
    "bot.gripper.open()"
   ]
  },
  {
   "cell_type": "code",
   "execution_count": 3,
   "id": "e27d4c82-cb31-402b-a667-4c88345ff149",
   "metadata": {},
   "outputs": [
    {
     "data": {
      "text/plain": [
       "True"
      ]
     },
     "execution_count": 3,
     "metadata": {},
     "output_type": "execute_result"
    }
   ],
   "source": [
    "# 扉の前へアプローチ\n",
    "bot.arm.set_joint_positions(np.radians([24.8, 9.0, 12.5, 40.0, -34.5, -36.0]))"
   ]
  },
  {
   "cell_type": "code",
   "execution_count": 4,
   "id": "12636d4f-e2b0-4112-b72c-e7f173b629fc",
   "metadata": {},
   "outputs": [
    {
     "data": {
      "text/plain": [
       "True"
      ]
     },
     "execution_count": 4,
     "metadata": {},
     "output_type": "execute_result"
    }
   ],
   "source": [
    "# 掴む位置へ移動\n",
    "bot.arm.set_joint_positions(np.radians([22.0, 15.0, 5.0, 40.0, -34.5, -36.0]))"
   ]
  },
  {
   "cell_type": "code",
   "execution_count": 5,
   "id": "9d63c3c4-2d20-46c1-ad91-f203f192ffa3",
   "metadata": {},
   "outputs": [],
   "source": [
    "# 掴む\n",
    "bot.gripper.set_pressure(0.9)\n",
    "bot.gripper.close()"
   ]
  },
  {
   "cell_type": "code",
   "execution_count": 6,
   "id": "74a5b682-9fc0-45ab-b3a9-e01cf8bf22f3",
   "metadata": {},
   "outputs": [
    {
     "data": {
      "text/plain": [
       "True"
      ]
     },
     "execution_count": 6,
     "metadata": {},
     "output_type": "execute_result"
    }
   ],
   "source": [
    "# 扉の前へ戻る\n",
    "bot.arm.set_joint_positions(np.radians([23.0, 9.0, 10.0, 40.0, -32.0, -36.0]))"
   ]
  },
  {
   "cell_type": "code",
   "execution_count": 7,
   "id": "82a09301-ffcb-422d-af21-4637e960e48b",
   "metadata": {},
   "outputs": [
    {
     "data": {
      "text/plain": [
       "True"
      ]
     },
     "execution_count": 7,
     "metadata": {},
     "output_type": "execute_result"
    }
   ],
   "source": [
    "# 扉の外へ出る\n",
    "bot.arm.set_joint_positions(np.radians([30.0, -25.0, 47.0, 40.0, -34.0, -36.0]))"
   ]
  },
  {
   "cell_type": "code",
   "execution_count": 8,
   "id": "a9f18327-ba3f-4c0d-9904-541372d5b1a8",
   "metadata": {},
   "outputs": [],
   "source": [
    "upper_home()"
   ]
  },
  {
   "cell_type": "code",
   "execution_count": 9,
   "id": "c2cc1dec-ee68-40a5-ac59-4600ab486a9f",
   "metadata": {},
   "outputs": [
    {
     "data": {
      "text/plain": [
       "True"
      ]
     },
     "execution_count": 9,
     "metadata": {},
     "output_type": "execute_result"
    }
   ],
   "source": [
    "# 顕微鏡の手前へ移動\n",
    "bot.arm.set_joint_positions(np.radians([-89.0, -70.0, 85.0, 0.0, -20.0, 0.0]))"
   ]
  },
  {
   "cell_type": "code",
   "execution_count": 10,
   "id": "27a46da2-602d-481c-aab2-fd1e03afde0f",
   "metadata": {},
   "outputs": [
    {
     "data": {
      "text/plain": [
       "True"
      ]
     },
     "execution_count": 10,
     "metadata": {},
     "output_type": "execute_result"
    }
   ],
   "source": [
    "# 顕微鏡プレートAの上へ移動\n",
    "bot.arm.set_joint_positions(np.radians([-89.0, -18.0, 76.0, 0.0, -66.0, 0.0]))"
   ]
  },
  {
   "cell_type": "code",
   "execution_count": 11,
   "id": "c9c2ab2c-f8d0-4291-b37d-b9f804aef230",
   "metadata": {},
   "outputs": [
    {
     "data": {
      "text/plain": [
       "True"
      ]
     },
     "execution_count": 11,
     "metadata": {},
     "output_type": "execute_result"
    }
   ],
   "source": [
    "# 顕微鏡プレートAの上へ移動\n",
    "bot.arm.set_joint_positions(np.radians([-89.0, -10.0, 67.0, 0.0, -65.0, 0.0]))"
   ]
  },
  {
   "cell_type": "code",
   "execution_count": 12,
   "id": "3d46b010-4eb3-4556-814a-96463b00cc59",
   "metadata": {},
   "outputs": [
    {
     "data": {
      "text/plain": [
       "True"
      ]
     },
     "execution_count": 12,
     "metadata": {},
     "output_type": "execute_result"
    }
   ],
   "source": [
    "# 顕微鏡プレートAの上へ移動\n",
    "bot.arm.set_joint_positions(np.radians([-89.0, -8.0, 67.0, 0.0, -65.0, 0.0]))"
   ]
  },
  {
   "cell_type": "code",
   "execution_count": 13,
   "id": "d5e19ae5-c116-46e0-94c1-ffdab0a34ee0",
   "metadata": {},
   "outputs": [],
   "source": [
    "# 放す\n",
    "bot.gripper.set_pressure(0.9)\n",
    "bot.gripper.open()"
   ]
  },
  {
   "cell_type": "code",
   "execution_count": 14,
   "id": "5ae633a9-dbd8-414f-85dd-e1726518c797",
   "metadata": {},
   "outputs": [
    {
     "data": {
      "text/plain": [
       "True"
      ]
     },
     "execution_count": 14,
     "metadata": {},
     "output_type": "execute_result"
    }
   ],
   "source": [
    "# 顕微鏡の手前へ移動\n",
    "bot.arm.set_joint_positions(np.radians([-89.0, -70.0, 85.0, 0.0, -20.0, 0.0]))"
   ]
  },
  {
   "cell_type": "code",
   "execution_count": 15,
   "id": "c0b6e025-7367-4afd-b522-66a50c3bef81",
   "metadata": {},
   "outputs": [
    {
     "name": "stdout",
     "output_type": "stream",
     "text": [
      "shutdown request: [/vx300s_robot_manipulation] Reason: new node registered with same name\n",
      "/vx300s_robot_manipulation/rospy.impl.masterslave [INFO] external shutdown request from [/master]: [/vx300s_robot_manipulation] Reason: new node registered with same name\n",
      "/vx300s_robot_manipulation/rospy.core [INFO] signal_shutdown [external shutdown request from [/master]: [[/vx300s_robot_manipulation] Reason: new node registered with same name]]\n"
     ]
    }
   ],
   "source": [
    "home()"
   ]
  },
  {
   "cell_type": "markdown",
   "id": "a8e85d1c-8770-4f1b-a4c5-3badfd5405a7",
   "metadata": {},
   "source": [
    "## 終わり"
   ]
  },
  {
   "cell_type": "code",
   "execution_count": 21,
   "id": "c48e58ef-f7df-4f4e-b968-393ef4839de3",
   "metadata": {},
   "outputs": [
    {
     "name": "stdout",
     "output_type": "stream",
     "text": [
      "shutdown request: [/vx300s_robot_manipulation] Reason: new node registered with same name\n",
      "/vx300s_robot_manipulation/rospy.impl.masterslave [INFO] external shutdown request from [/master]: [/vx300s_robot_manipulation] Reason: new node registered with same name\n",
      "/vx300s_robot_manipulation/rospy.core [INFO] signal_shutdown [external shutdown request from [/master]: [[/vx300s_robot_manipulation] Reason: new node registered with same name]]\n"
     ]
    }
   ],
   "source": [
    "home()\n",
    "bot.arm.go_to_sleep_pose()\n",
    "rospy.sleep(1)\n",
    "bot.dxl.robot_torque_enable(cmd_type='group', name='all', enable=False)"
   ]
  },
  {
   "cell_type": "markdown",
   "id": "4774ea5e-1152-4449-8df4-abd35320e9fe",
   "metadata": {},
   "source": [
    "## 情報確認用"
   ]
  },
  {
   "cell_type": "code",
   "execution_count": 33,
   "id": "0de0495e-f687-46f8-aabf-c12fe7a11b61",
   "metadata": {},
   "outputs": [],
   "source": [
    "# トルクOFF\n",
    "bot.dxl.robot_torque_enable(cmd_type='group', name='all', enable=False)"
   ]
  },
  {
   "cell_type": "code",
   "execution_count": 34,
   "id": "77459842-a7f6-4ea2-8b27-8d294d1b34ca",
   "metadata": {},
   "outputs": [],
   "source": [
    "# トルクON\n",
    "bot.dxl.robot_torque_enable(cmd_type='group', name='all', enable=True)"
   ]
  },
  {
   "cell_type": "code",
   "execution_count": 20,
   "id": "67a4c2da-4dbd-48a7-bafd-245150e02e8a",
   "metadata": {},
   "outputs": [
    {
     "data": {
      "text/plain": [
       "{'waist': '26.9 [deg]',\n",
       " 'shoulder': '4.7 [deg]',\n",
       " 'elbow': '21.3 [deg]',\n",
       " 'forearm_roll': '40.1 [deg]',\n",
       " 'wrist_angle': '-39.6 [deg]',\n",
       " 'wrist_rotate': '-33.9 [deg]'}"
      ]
     },
     "execution_count": 20,
     "metadata": {},
     "output_type": "execute_result"
    }
   ],
   "source": [
    "# 現在の各軸角度\n",
    "{\n",
    "    name:\n",
    "    f\"{np.degrees(bot.dxl.robot_get_single_joint_state(name)['position']):.1f} [deg]\"\n",
    "    for name in bot.arm.group_info.joint_names\n",
    "}"
   ]
  }
 ],
 "metadata": {
  "kernelspec": {
   "display_name": "Python 3 (ipykernel)",
   "language": "python",
   "name": "python3"
  },
  "language_info": {
   "codemirror_mode": {
    "name": "ipython",
    "version": 3
   },
   "file_extension": ".py",
   "mimetype": "text/x-python",
   "name": "python",
   "nbconvert_exporter": "python",
   "pygments_lexer": "ipython3",
   "version": "3.8.10"
  },
  "vscode": {
   "interpreter": {
    "hash": "916dbcbb3f70747c44a77c7bcd40155683ae19c65e1c03b4aa3499c5328201f1"
   }
  }
 },
 "nbformat": 4,
 "nbformat_minor": 5
}
